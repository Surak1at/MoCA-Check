{
 "cells": [
  {
   "cell_type": "code",
   "execution_count": 1,
   "metadata": {
    "Collapsed": "false"
   },
   "outputs": [],
   "source": [
    "from IPython.display import Audio"
   ]
  },
  {
   "cell_type": "code",
   "execution_count": 2,
   "metadata": {
    "Collapsed": "false"
   },
   "outputs": [],
   "source": [
    "import gtts\n",
    "from gtts import gTTS"
   ]
  },
  {
   "cell_type": "code",
   "execution_count": 3,
   "metadata": {},
   "outputs": [],
   "source": [
    "#Instruction\n",
    "tts = gTTS('เชื่อมเส้นจุดตามลำดับภาพด้านล่าง ห้ามเชื่อมซ้ำหากต้องการลบให้กดลบเส้นล่าสุดแล้วกดที่ข้อต่อไป', lang='th')\n",
    "tts.save('dotConnect.mp3')\n",
    "tts = gTTS('ดูภาพตัวอย่างแล้ววาดลงในกรอบให้ใกล้เคียงต้นแบบมากที่สุดโดยใช้เส้นให้ครบถ้วน', lang='th')\n",
    "tts.save('geometryCopy.mp3')\n",
    "tts = gTTS('สังเกตรูปภาพแล้วเลือกชื่อสัตว์ที่ตรงกับภาพจากตัวเลือก', lang='th')\n",
    "tts.save('namingTest.mp3')\n",
    "tts = gTTS('ให้ตั้งใจฟังคำศัพท์แล้วเรียงลำดับตามที่ได้ยิน ถ้าพร้อมแล้วให้กดปุ่มเริ่มทำแบบ ทดสอบ', lang='th')\n",
    "tts.save('memoryInstruction.mp3')\n",
    "tts = gTTS('ฟังตัวเลขจากระบบแล้วเรียงตามลำดับที่ได้ยิน', lang='th')\n",
    "tts.save('numberInstruction.mp3')\n",
    "tts = gTTS('ฟังตัวเลข3ตัวแล้วเลือกตัวเลขตามลำดับที่ได้ยิน แต่เรียงย้อนกลับ', lang='th')\n",
    "tts.save('backwardInstruction.mp3')\n",
    "tts = gTTS('หากเห็นเลขเป้าหมายตรงกับตัวเลขในกรอบสีแดงนี้ให้กดปุ่มตกลงทันที ระบบจะทดสอบภายใน1นาที', lang='th')\n",
    "tts.save('exclusionInstruction.mp3')\n",
    "tts = gTTS('ดูโจทย์ตัวตั้งและตัวลบ จากนั้นให้ลบไปเรื่อยๆ ตามลำดับ', lang='th')\n",
    "tts.save('subtractionInstruction.mp3')\n",
    "tts = gTTS('ให้ทวนคำศัพท์ที่จำไว้ก่อนหน้านี้ และเรียงคำให้ถูกต้อง', lang='th')\n",
    "tts.save('delayedRecallInstruction.mp3')\n",
    "tts = gTTS('ฟังเสียงประโยค แล้วกดเรียงคำให้ถูกต้องตามลำดับที่ได้ยิน', lang='th')\n",
    "tts.save('sentenceOrderInstruction.mp3')\n",
    "tts = gTTS('ดูคำศัพท์ แล้วเลือกพยัญชนะต้นคำให้ถูกต้องให้มากที่สุด', lang='th')\n",
    "tts.save('wordTypingInstruction.mp3')\n",
    "tts = gTTS('คำศัพท์ทั้งสองคำอยู่ในหมวดหมู่ใด? ให้เลือกหมวดหมู่ให้ถูกต้อง', lang='th')\n",
    "tts.save('abstractionInstruction.mp3')\n",
    "tts = gTTS('กรอกข้อมูลให้ตรงกับที่ลงทะเบียนไว้', lang='th')\n",
    "tts.save('orientationInstruction.mp3')"
   ]
  },
  {
   "cell_type": "code",
   "execution_count": 8,
   "metadata": {},
   "outputs": [],
   "source": [
    "# memory test\n",
    "tts = gTTS('หน้า', lang='th')\n",
    "tts.save('face.mp3')\n",
    "tts = gTTS('ผ้าไหม', lang='th')\n",
    "tts.save('silk.mp3')\n",
    "tts = gTTS('วัด', lang='th')\n",
    "tts.save('temple.mp3')\n",
    "tts = gTTS('มะลิ', lang='th')\n",
    "tts.save('jasmine.mp3')\n",
    "tts = gTTS('สีแดง', lang='th')\n",
    "tts.save('red.mp3')\n",
    "tts = gTTS('บ้าน', lang='th')\n",
    "tts.save('home.mp3')\n",
    "tts = gTTS('ตา', lang='th')\n",
    "tts.save('eye.mp3')\n",
    "tts = gTTS('เสือ', lang='th')\n",
    "tts.save('tiger.mp3')\n",
    "tts = gTTS('วิทยุ', lang='th')\n",
    "tts.save('radio.mp3')\n",
    "tts = gTTS('สีเหลือง', lang='th')\n",
    "tts.save('yellow.mp3')\n",
    "tts = gTTS('หนังสือ', lang='th')\n",
    "tts.save('book.mp3')\n",
    "tts = gTTS('ทีวี', lang='th')\n",
    "tts.save('tv.mp3')"
   ]
  },
  {
   "cell_type": "code",
   "execution_count": 9,
   "metadata": {},
   "outputs": [],
   "source": [
    "# number\n",
    "numbers = {\n",
    "    \"0\": \"ศูนย์\",\n",
    "    \"1\": \"หนึ่ง\",\n",
    "    \"2\": \"สอง\",\n",
    "    \"3\": \"สาม\",\n",
    "    \"4\": \"สี่\",\n",
    "    \"5\": \"ห้า\",\n",
    "    \"6\": \"หก\",\n",
    "    \"7\": \"เจ็ด\",\n",
    "    \"8\": \"แปด\",\n",
    "    \"9\": \"เก้า\",\n",
    "}\n",
    "\n",
    "for digit, word in numbers.items():\n",
    "    tts = gTTS(word, lang='th')\n",
    "    tts.save(f\"{digit}.mp3\")\n"
   ]
  },
  {
   "cell_type": "code",
   "execution_count": 5,
   "metadata": {},
   "outputs": [],
   "source": [
    "tts = gTTS('ฉันรู้ว่าจอมเป็นคนเดียวที่มาช่วยงานวันนี้', lang='th')\n",
    "tts.save('sentence1.mp3')\n",
    "tts = gTTS('แมวมักซ่อนตัวอยู่หลังเก้าอี้เมื่อมีหมาอยู่ในห้อง', lang='th')\n",
    "tts.save('sentence2.mp3')\n",
    "tts = gTTS('เขารีบกลับบ้านทันทีที่ฝนเริ่มตกหนัก', lang='th')\n",
    "tts.save('sentence3.mp3')\n",
    "tts = gTTS('เธอชอบดื่มกาแฟในตอนเช้าก่อนเริ่มทำงาน', lang='th')\n",
    "tts.save('sentence4.mp3')\n",
    "tts = gTTS('เธอวางแผนจะเรียนต่อในต่างประเทศหลังจบการศึกษา', lang='th')\n",
    "tts.save('sentence5.mp3')\n",
    "tts = gTTS('พวกเขาซื้อของใช้จำเป็นที่ตลาดเมื่อเช้านี้', lang='th')\n",
    "tts.save('sentence6.mp3')\n",
    "tts = gTTS('แมวของฉันชอบนอนบนเก้าอี้ตัวโปรดทุกวัน', lang='th')\n",
    "tts.save('sentence7.mp3')\n",
    "tts = gTTS('พวกเราไปเดินเล่นที่สวนสาธารณะเมื่อวานนี้', lang='th')\n",
    "tts.save('sentence8.mp3')\n",
    "tts = gTTS('ทุกคนในครอบครัวชอบไปเที่ยวภูเขาในช่วงวันหยุดยาว', lang='th')\n",
    "tts.save('sentence9.mp3')\n",
    "tts = gTTS('ทุกคนต่างรอคอยวันที่จะได้พบกันอีกครั้ง', lang='th')\n",
    "tts.save('sentence10.mp3')"
   ]
  },
  {
   "cell_type": "code",
   "execution_count": 4,
   "metadata": {},
   "outputs": [],
   "source": [
    "\n",
    "tts = gTTS('จากรูปภาพมีรูปร่างเป็นอย่างไร', lang='th')\n",
    "tts.save('clock_step1.mp3')\n",
    "tts = gTTS('ดูเข็มนาฬิกาในภาพและให้พิมพ์ตัวเลขในรูปแบบ12ชั่วโมงในกรอบช่องสี่เหลี่ยมด้านล่าง โดยเข็มนาทีให้ใส่ตัวเลขลงท้ายด้วย0หรือ5', lang='th')\n",
    "tts.save('clock_step2.mp3')\n",
    "tts = gTTS('ให้ปรับเข็มนาฬิกาให้ตรงกับเวลาที่กำหนดไว้โดยกดปุ่มหมุนเข็มชั่วโมงและเข็มนาที จากนั้นกดข้อถัดไป', lang='th')\n",
    "tts.save('clock_step3.mp3')"
   ]
  }
 ],
 "metadata": {
  "kernelspec": {
   "display_name": "base",
   "language": "python",
   "name": "python3"
  },
  "language_info": {
   "codemirror_mode": {
    "name": "ipython",
    "version": 3
   },
   "file_extension": ".py",
   "mimetype": "text/x-python",
   "name": "python",
   "nbconvert_exporter": "python",
   "pygments_lexer": "ipython3",
   "version": "3.12.7"
  },
  "widgets": {
   "application/vnd.jupyter.widget-state+json": {
    "state": {},
    "version_major": 2,
    "version_minor": 0
   }
  }
 },
 "nbformat": 4,
 "nbformat_minor": 4
}
